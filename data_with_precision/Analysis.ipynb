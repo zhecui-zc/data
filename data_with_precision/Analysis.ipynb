{
 "cells": [
  {
   "cell_type": "code",
   "execution_count": 1,
   "id": "0596404c",
   "metadata": {},
   "outputs": [],
   "source": []
  },
  {
   "cell_type": "markdown",
   "id": "d2c4202f",
   "metadata": {},
   "source": [
    "# Data Preprocessing"
   ]
  },
  {
   "cell_type": "code",
   "execution_count": 2,
   "id": "deebc193",
   "metadata": {},
   "outputs": [],
   "source": [
    "import pandas as pd\n",
    "import seaborn as sns\n",
    "import matplotlib.pyplot as plt\n",
    "import matplotlib\n",
    "import numpy as np"
   ]
  },
  {
   "cell_type": "code",
   "execution_count": 3,
   "id": "e7da9eb7",
   "metadata": {},
   "outputs": [],
   "source": [
    "df = pd.read_csv(\"./test_point_1.csv\")"
   ]
  },
  {
   "cell_type": "markdown",
   "id": "89cefbdb",
   "metadata": {},
   "source": [
    "Check the shape and check for null/NaN values."
   ]
  },
  {
   "cell_type": "code",
   "execution_count": 4,
   "id": "b9642c65",
   "metadata": {},
   "outputs": [
    {
     "data": {
      "text/plain": [
       "(1106, 11)"
      ]
     },
     "execution_count": 4,
     "metadata": {},
     "output_type": "execute_result"
    }
   ],
   "source": [
    "df.shape"
   ]
  },
  {
   "cell_type": "code",
   "execution_count": 5,
   "id": "dcf5697a",
   "metadata": {},
   "outputs": [
    {
     "data": {
      "text/plain": [
       "Unnamed: 0.1            0\n",
       "Unnamed: 0              0\n",
       "macAddress              0\n",
       "locationCoordinate_x    0\n",
       "locationCoordinate_y    0\n",
       "confidenceFactor        0\n",
       "maxDetectedRssi         0\n",
       "CMX_lastSeen            0\n",
       "Real_Time               0\n",
       "RMSE                    0\n",
       "Test_point              0\n",
       "dtype: int64"
      ]
     },
     "execution_count": 5,
     "metadata": {},
     "output_type": "execute_result"
    }
   ],
   "source": [
    "df.isnull().sum()"
   ]
  },
  {
   "cell_type": "markdown",
   "id": "d7a18752",
   "metadata": {},
   "source": [
    "Produce statistics describing the dataset."
   ]
  },
  {
   "cell_type": "code",
   "execution_count": 6,
   "id": "e7610795",
   "metadata": {},
   "outputs": [
    {
     "data": {
      "text/html": [
       "<div>\n",
       "<style scoped>\n",
       "    .dataframe tbody tr th:only-of-type {\n",
       "        vertical-align: middle;\n",
       "    }\n",
       "\n",
       "    .dataframe tbody tr th {\n",
       "        vertical-align: top;\n",
       "    }\n",
       "\n",
       "    .dataframe thead th {\n",
       "        text-align: right;\n",
       "    }\n",
       "</style>\n",
       "<table border=\"1\" class=\"dataframe\">\n",
       "  <thead>\n",
       "    <tr style=\"text-align: right;\">\n",
       "      <th></th>\n",
       "      <th>Unnamed: 0.1</th>\n",
       "      <th>Unnamed: 0</th>\n",
       "      <th>locationCoordinate_x</th>\n",
       "      <th>locationCoordinate_y</th>\n",
       "      <th>confidenceFactor</th>\n",
       "      <th>maxDetectedRssi</th>\n",
       "      <th>RMSE</th>\n",
       "      <th>Test_point</th>\n",
       "    </tr>\n",
       "  </thead>\n",
       "  <tbody>\n",
       "    <tr>\n",
       "      <th>count</th>\n",
       "      <td>1106.000000</td>\n",
       "      <td>1106.000000</td>\n",
       "      <td>1106.000000</td>\n",
       "      <td>1106.000000</td>\n",
       "      <td>1106.000000</td>\n",
       "      <td>1106.000000</td>\n",
       "      <td>1106.000000</td>\n",
       "      <td>1106.0</td>\n",
       "    </tr>\n",
       "    <tr>\n",
       "      <th>mean</th>\n",
       "      <td>552.500000</td>\n",
       "      <td>552.500000</td>\n",
       "      <td>26.715543</td>\n",
       "      <td>12.330167</td>\n",
       "      <td>62.835443</td>\n",
       "      <td>-61.239602</td>\n",
       "      <td>20.277288</td>\n",
       "      <td>1.0</td>\n",
       "    </tr>\n",
       "    <tr>\n",
       "      <th>std</th>\n",
       "      <td>319.419004</td>\n",
       "      <td>319.419004</td>\n",
       "      <td>17.226914</td>\n",
       "      <td>14.184704</td>\n",
       "      <td>19.955517</td>\n",
       "      <td>5.209590</td>\n",
       "      <td>20.579531</td>\n",
       "      <td>0.0</td>\n",
       "    </tr>\n",
       "    <tr>\n",
       "      <th>min</th>\n",
       "      <td>0.000000</td>\n",
       "      <td>0.000000</td>\n",
       "      <td>8.815560</td>\n",
       "      <td>0.000000</td>\n",
       "      <td>32.000000</td>\n",
       "      <td>-72.000000</td>\n",
       "      <td>0.040496</td>\n",
       "      <td>1.0</td>\n",
       "    </tr>\n",
       "    <tr>\n",
       "      <th>25%</th>\n",
       "      <td>276.250000</td>\n",
       "      <td>276.250000</td>\n",
       "      <td>16.797810</td>\n",
       "      <td>0.000000</td>\n",
       "      <td>40.000000</td>\n",
       "      <td>-62.000000</td>\n",
       "      <td>3.734642</td>\n",
       "      <td>1.0</td>\n",
       "    </tr>\n",
       "    <tr>\n",
       "      <th>50%</th>\n",
       "      <td>552.500000</td>\n",
       "      <td>552.500000</td>\n",
       "      <td>20.360548</td>\n",
       "      <td>1.202192</td>\n",
       "      <td>80.000000</td>\n",
       "      <td>-59.000000</td>\n",
       "      <td>10.876640</td>\n",
       "      <td>1.0</td>\n",
       "    </tr>\n",
       "    <tr>\n",
       "      <th>75%</th>\n",
       "      <td>828.750000</td>\n",
       "      <td>828.750000</td>\n",
       "      <td>24.949219</td>\n",
       "      <td>31.683264</td>\n",
       "      <td>80.000000</td>\n",
       "      <td>-58.000000</td>\n",
       "      <td>34.962825</td>\n",
       "      <td>1.0</td>\n",
       "    </tr>\n",
       "    <tr>\n",
       "      <th>max</th>\n",
       "      <td>1105.000000</td>\n",
       "      <td>1105.000000</td>\n",
       "      <td>63.107998</td>\n",
       "      <td>34.657078</td>\n",
       "      <td>80.000000</td>\n",
       "      <td>-56.000000</td>\n",
       "      <td>59.180176</td>\n",
       "      <td>1.0</td>\n",
       "    </tr>\n",
       "  </tbody>\n",
       "</table>\n",
       "</div>"
      ],
      "text/plain": [
       "       Unnamed: 0.1   Unnamed: 0  locationCoordinate_x  locationCoordinate_y  \\\n",
       "count   1106.000000  1106.000000           1106.000000           1106.000000   \n",
       "mean     552.500000   552.500000             26.715543             12.330167   \n",
       "std      319.419004   319.419004             17.226914             14.184704   \n",
       "min        0.000000     0.000000              8.815560              0.000000   \n",
       "25%      276.250000   276.250000             16.797810              0.000000   \n",
       "50%      552.500000   552.500000             20.360548              1.202192   \n",
       "75%      828.750000   828.750000             24.949219             31.683264   \n",
       "max     1105.000000  1105.000000             63.107998             34.657078   \n",
       "\n",
       "       confidenceFactor  maxDetectedRssi         RMSE  Test_point  \n",
       "count       1106.000000      1106.000000  1106.000000      1106.0  \n",
       "mean          62.835443       -61.239602    20.277288         1.0  \n",
       "std           19.955517         5.209590    20.579531         0.0  \n",
       "min           32.000000       -72.000000     0.040496         1.0  \n",
       "25%           40.000000       -62.000000     3.734642         1.0  \n",
       "50%           80.000000       -59.000000    10.876640         1.0  \n",
       "75%           80.000000       -58.000000    34.962825         1.0  \n",
       "max           80.000000       -56.000000    59.180176         1.0  "
      ]
     },
     "execution_count": 6,
     "metadata": {},
     "output_type": "execute_result"
    }
   ],
   "source": [
    "df.describe()"
   ]
  },
  {
   "cell_type": "code",
   "execution_count": 7,
   "id": "d61a5683",
   "metadata": {},
   "outputs": [
    {
     "data": {
      "image/png": "[encoded data removed]",
      "text/plain": [
       "<Figure size 432x288 with 1 Axes>"
      ]
     },
     "metadata": {
      "needs_background": "light"
     },
     "output_type": "display_data"
    }
   ],
   "source": [
    "confidence_box=sns.boxplot(x='confidenceFactor', data=df)"
   ]
  },
  {
   "cell_type": "markdown",
   "id": "30d09559",
   "metadata": {},
   "source": [
    "Let's plot the distribution of RMSE to find out in what range the CMX fall in terms of RMSE."
   ]
  },
  {
   "cell_type": "code",
   "execution_count": 8,
   "id": "f52a61e0",
   "metadata": {},
   "outputs": [
    {
     "name": "stderr",
     "output_type": "stream",
     "text": [
      "C:\\Users\\zcui\\Anaconda3\\lib\\site-packages\\seaborn\\distributions.py:2619: FutureWarning: `distplot` is a deprecated function and will be removed in a future version. Please adapt your code to use either `displot` (a figure-level function with similar flexibility) or `histplot` (an axes-level function for histograms).\n",
      "  warnings.warn(msg, FutureWarning)\n"
     ]
    },
    {
     "data": {
      "text/plain": [
       "<AxesSubplot:xlabel='RMSE', ylabel='Density'>"
      ]
     },
     "execution_count": 8,
     "metadata": {},
     "output_type": "execute_result"
    },
    {
     "data": {
      "image/png": "[encoded data removed]",
      "text/plain": [
       "<Figure size 432x288 with 1 Axes>"
      ]
     },
     "metadata": {
      "needs_background": "light"
     },
     "output_type": "display_data"
    }
   ],
   "source": [
    "sns.distplot(df['RMSE'])"
   ]
  },
  {
   "cell_type": "markdown",
   "id": "f4a596b5",
   "metadata": {},
   "source": [
    "# Analysis & Summary"
   ]
  },
  {
   "cell_type": "markdown",
   "id": "e798c465",
   "metadata": {},
   "source": [
    "# The relationship between confidence factor and precision"
   ]
  },
  {
   "cell_type": "code",
   "execution_count": 9,
   "id": "e2028e10",
   "metadata": {},
   "outputs": [],
   "source": [
    "#Acquiring the macAddress of devices\n",
    "\n",
    "mAdd = set()\n",
    "for i in df['macAddress'].str.split(','):\n",
    "    mAdd = set().union(i,mAdd)    "
   ]
  },
  {
   "cell_type": "code",
   "execution_count": 10,
   "id": "191159a1",
   "metadata": {},
   "outputs": [],
   "source": [
    "#for loop, lan is a list, la is a string\n",
    "for mA in mAdd:\n",
    "    df[mA] = df['macAddress'].str.contains(mA).apply(lambda x:1 if x else 0)"
   ]
  },
  {
   "cell_type": "code",
   "execution_count": 11,
   "id": "c61cc3cd",
   "metadata": {},
   "outputs": [
    {
     "name": "stderr",
     "output_type": "stream",
     "text": [
      "C:\\Users\\zcui\\AppData\\Local\\Temp\\ipykernel_12260\\2975791856.py:2: FutureWarning: Passing a set as an indexer is deprecated and will raise in a future version. Use a list instead.\n",
      "  df_gy = df.loc[:,mAdd]\n"
     ]
    },
    {
     "data": {
      "text/html": [
       "<div>\n",
       "<style scoped>\n",
       "    .dataframe tbody tr th:only-of-type {\n",
       "        vertical-align: middle;\n",
       "    }\n",
       "\n",
       "    .dataframe tbody tr th {\n",
       "        vertical-align: top;\n",
       "    }\n",
       "\n",
       "    .dataframe thead th {\n",
       "        text-align: right;\n",
       "    }\n",
       "</style>\n",
       "<table border=\"1\" class=\"dataframe\">\n",
       "  <thead>\n",
       "    <tr style=\"text-align: right;\">\n",
       "      <th></th>\n",
       "      <th>f4:02:28:5a:28:63</th>\n",
       "      <th>dc:a6:32:26:67:ab</th>\n",
       "    </tr>\n",
       "  </thead>\n",
       "  <tbody>\n",
       "    <tr>\n",
       "      <th>0</th>\n",
       "      <td>1</td>\n",
       "      <td>0</td>\n",
       "    </tr>\n",
       "    <tr>\n",
       "      <th>1</th>\n",
       "      <td>1</td>\n",
       "      <td>0</td>\n",
       "    </tr>\n",
       "    <tr>\n",
       "      <th>2</th>\n",
       "      <td>1</td>\n",
       "      <td>0</td>\n",
       "    </tr>\n",
       "    <tr>\n",
       "      <th>3</th>\n",
       "      <td>1</td>\n",
       "      <td>0</td>\n",
       "    </tr>\n",
       "    <tr>\n",
       "      <th>4</th>\n",
       "      <td>1</td>\n",
       "      <td>0</td>\n",
       "    </tr>\n",
       "    <tr>\n",
       "      <th>...</th>\n",
       "      <td>...</td>\n",
       "      <td>...</td>\n",
       "    </tr>\n",
       "    <tr>\n",
       "      <th>1101</th>\n",
       "      <td>0</td>\n",
       "      <td>1</td>\n",
       "    </tr>\n",
       "    <tr>\n",
       "      <th>1102</th>\n",
       "      <td>0</td>\n",
       "      <td>1</td>\n",
       "    </tr>\n",
       "    <tr>\n",
       "      <th>1103</th>\n",
       "      <td>0</td>\n",
       "      <td>1</td>\n",
       "    </tr>\n",
       "    <tr>\n",
       "      <th>1104</th>\n",
       "      <td>0</td>\n",
       "      <td>1</td>\n",
       "    </tr>\n",
       "    <tr>\n",
       "      <th>1105</th>\n",
       "      <td>0</td>\n",
       "      <td>1</td>\n",
       "    </tr>\n",
       "  </tbody>\n",
       "</table>\n",
       "<p>1106 rows × 2 columns</p>\n",
       "</div>"
      ],
      "text/plain": [
       "      f4:02:28:5a:28:63  dc:a6:32:26:67:ab\n",
       "0                     1                  0\n",
       "1                     1                  0\n",
       "2                     1                  0\n",
       "3                     1                  0\n",
       "4                     1                  0\n",
       "...                 ...                ...\n",
       "1101                  0                  1\n",
       "1102                  0                  1\n",
       "1103                  0                  1\n",
       "1104                  0                  1\n",
       "1105                  0                  1\n",
       "\n",
       "[1106 rows x 2 columns]"
      ]
     },
     "execution_count": 11,
     "metadata": {},
     "output_type": "execute_result"
    }
   ],
   "source": [
    "#Return 1 if each line contains a macAddress, 0 otherwise\n",
    "df_gy = df.loc[:,mAdd]\n",
    "df_gy"
   ]
  },
  {
   "cell_type": "code",
   "execution_count": 12,
   "id": "a9822e26",
   "metadata": {},
   "outputs": [
    {
     "data": {
      "text/html": [
       "<div>\n",
       "<style scoped>\n",
       "    .dataframe tbody tr th:only-of-type {\n",
       "        vertical-align: middle;\n",
       "    }\n",
       "\n",
       "    .dataframe tbody tr th {\n",
       "        vertical-align: top;\n",
       "    }\n",
       "\n",
       "    .dataframe thead th {\n",
       "        text-align: right;\n",
       "    }\n",
       "</style>\n",
       "<table border=\"1\" class=\"dataframe\">\n",
       "  <thead>\n",
       "    <tr style=\"text-align: right;\">\n",
       "      <th></th>\n",
       "      <th>f4:02:28:5a:28:63</th>\n",
       "      <th>dc:a6:32:26:67:ab</th>\n",
       "    </tr>\n",
       "    <tr>\n",
       "      <th>RMSE</th>\n",
       "      <th></th>\n",
       "      <th></th>\n",
       "    </tr>\n",
       "  </thead>\n",
       "  <tbody>\n",
       "    <tr>\n",
       "      <th>34.962825</th>\n",
       "      <td>1</td>\n",
       "      <td>0</td>\n",
       "    </tr>\n",
       "    <tr>\n",
       "      <th>34.962825</th>\n",
       "      <td>1</td>\n",
       "      <td>0</td>\n",
       "    </tr>\n",
       "    <tr>\n",
       "      <th>34.962825</th>\n",
       "      <td>1</td>\n",
       "      <td>0</td>\n",
       "    </tr>\n",
       "    <tr>\n",
       "      <th>34.962825</th>\n",
       "      <td>1</td>\n",
       "      <td>0</td>\n",
       "    </tr>\n",
       "    <tr>\n",
       "      <th>34.962825</th>\n",
       "      <td>1</td>\n",
       "      <td>0</td>\n",
       "    </tr>\n",
       "  </tbody>\n",
       "</table>\n",
       "</div>"
      ],
      "text/plain": [
       "           f4:02:28:5a:28:63  dc:a6:32:26:67:ab\n",
       "RMSE                                           \n",
       "34.962825                  1                  0\n",
       "34.962825                  1                  0\n",
       "34.962825                  1                  0\n",
       "34.962825                  1                  0\n",
       "34.962825                  1                  0"
      ]
     },
     "execution_count": 12,
     "metadata": {},
     "output_type": "execute_result"
    }
   ],
   "source": [
    "df_gy.index=df['RMSE']\n",
    "df_gy.head()"
   ]
  },
  {
   "cell_type": "code",
   "execution_count": 15,
   "id": "27d25200",
   "metadata": {},
   "outputs": [
    {
     "data": {
      "image/png": "[encoded data removed]",
      "text/plain": [
       "<Figure size 864x432 with 1 Axes>"
      ]
     },
     "metadata": {
      "needs_background": "light"
     },
     "output_type": "display_data"
    }
   ],
   "source": [
    "plt.figure(figsize=(12,6))\n",
    "plt.plot(df['confidenceFactor'],df['RMSE'], 'r--')\n",
    "plt.xlabel('confidenceFactor')\n",
    "plt.ylabel('RMSE')\n",
    "plt.show()"
   ]
  },
  {
   "cell_type": "code",
   "execution_count": null,
   "id": "48c9828a",
   "metadata": {},
   "outputs": [],
   "source": []
  },
  {
   "cell_type": "code",
   "execution_count": null,
   "id": "39b1953a",
   "metadata": {},
   "outputs": [],
   "source": []
  }
 ],
 "metadata": {
  "kernelspec": {
   "display_name": "Python 3 (ipykernel)",
   "language": "python",
   "name": "python3"
  },
  "language_info": {
   "codemirror_mode": {
    "name": "ipython",
    "version": 3
   },
   "file_extension": ".py",
   "mimetype": "text/x-python",
   "name": "python",
   "nbconvert_exporter": "python",
   "pygments_lexer": "ipython3",
   "version": "3.9.12"
  }
 },
 "nbformat": 4,
 "nbformat_minor": 5
}
