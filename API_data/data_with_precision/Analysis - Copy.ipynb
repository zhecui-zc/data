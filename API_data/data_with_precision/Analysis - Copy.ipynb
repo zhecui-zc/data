{
 "cells": [
  {
   "cell_type": "code",
   "execution_count": null,
   "id": "0596404c",
   "metadata": {},
   "outputs": [],
   "source": []
  },
  {
   "cell_type": "markdown",
   "id": "d2c4202f",
   "metadata": {},
   "source": [
    "# Data Preprocessing"
   ]
  },
  {
   "cell_type": "code",
   "execution_count": null,
   "id": "deebc193",
   "metadata": {},
   "outputs": [],
   "source": [
    "import pandas as pd\n",
    "import seaborn as sns\n",
    "import matplotlib.pyplot as plt\n",
    "import matplotlib\n",
    "import numpy as np"
   ]
  },
  {
   "cell_type": "code",
   "execution_count": null,
   "id": "e7da9eb7",
   "metadata": {},
   "outputs": [],
   "source": [
    "df = pd.read_csv(\"./All_new.csv\")"
   ]
  },
  {
   "cell_type": "code",
   "execution_count": null,
   "id": "75aae0e3",
   "metadata": {},
   "outputs": [],
   "source": [
    "df"
   ]
  },
  {
   "cell_type": "markdown",
   "id": "89cefbdb",
   "metadata": {},
   "source": [
    "Check the shape and check for null/NaN values."
   ]
  },
  {
   "cell_type": "code",
   "execution_count": null,
   "id": "b9642c65",
   "metadata": {},
   "outputs": [],
   "source": [
    "df.shape"
   ]
  },
  {
   "cell_type": "code",
   "execution_count": null,
   "id": "dcf5697a",
   "metadata": {},
   "outputs": [],
   "source": [
    "df.isnull().sum()"
   ]
  },
  {
   "cell_type": "markdown",
   "id": "d7a18752",
   "metadata": {},
   "source": [
    "Produce statistics describing the dataset."
   ]
  },
  {
   "cell_type": "code",
   "execution_count": null,
   "id": "e7610795",
   "metadata": {},
   "outputs": [],
   "source": [
    "df.describe()"
   ]
  },
  {
   "cell_type": "code",
   "execution_count": null,
   "id": "748ee421",
   "metadata": {},
   "outputs": [],
   "source": []
  },
  {
   "cell_type": "code",
   "execution_count": null,
   "id": "d61a5683",
   "metadata": {},
   "outputs": [],
   "source": [
    "confidence_box=sns.boxplot(x='confidenceFactor', data=df)"
   ]
  },
  {
   "cell_type": "markdown",
   "id": "30d09559",
   "metadata": {},
   "source": [
    "Let's plot the distribution of RMSE to find out in what range the CMX fall in terms of RMSE."
   ]
  },
  {
   "cell_type": "code",
   "execution_count": null,
   "id": "f52a61e0",
   "metadata": {},
   "outputs": [],
   "source": [
    "sns.distplot(df['RMSE'])"
   ]
  },
  {
   "cell_type": "code",
   "execution_count": null,
   "id": "97fbabe4",
   "metadata": {},
   "outputs": [],
   "source": [
    "ss_total = df[(df['macAddress'] == 'f4:02:28:5a:28:63')]\n",
    "rp_total = df[(df['macAddress'] == 'dc:a6:32:26:67:ab')]\n"
   ]
  },
  {
   "cell_type": "code",
   "execution_count": null,
   "id": "21518c2e",
   "metadata": {},
   "outputs": [],
   "source": [
    "tp_1 = [1]\n",
    "ss_1 = df[(df['macAddress'] == 'f4:02:28:5a:28:63') & (df['Test_point'].isin(tp_1))]"
   ]
  },
  {
   "cell_type": "code",
   "execution_count": null,
   "id": "8bc9659a",
   "metadata": {},
   "outputs": [],
   "source": [
    "tp_2 = [2]\n",
    "ss_2 = df[(df['macAddress'] == 'f4:02:28:5a:28:63') & (df['Test_point'].isin(tp_2))]"
   ]
  },
  {
   "cell_type": "code",
   "execution_count": null,
   "id": "951f3e87",
   "metadata": {},
   "outputs": [],
   "source": [
    "tp_3 = [3]\n",
    "ss_3 = df[(df['macAddress'] == 'f4:02:28:5a:28:63') & (df['Test_point'].isin(tp_3))]"
   ]
  },
  {
   "cell_type": "code",
   "execution_count": null,
   "id": "523212f6",
   "metadata": {},
   "outputs": [],
   "source": [
    "tp_4 = [4]\n",
    "ss_4 = df[(df['macAddress'] == 'f4:02:28:5a:28:63') & (df['Test_point'].isin(tp_4))]"
   ]
  },
  {
   "cell_type": "code",
   "execution_count": null,
   "id": "507d7e0a",
   "metadata": {},
   "outputs": [],
   "source": [
    "tp_5 = [5]\n",
    "ss_5 = df[(df['macAddress'] == 'f4:02:28:5a:28:63') & (df['Test_point'].isin(tp_5))]"
   ]
  },
  {
   "cell_type": "code",
   "execution_count": null,
   "id": "0cd5317d",
   "metadata": {},
   "outputs": [],
   "source": [
    "tp_6 = [6]\n",
    "ss_6 = df[(df['macAddress'] == 'f4:02:28:5a:28:63') & (df['Test_point'].isin(tp_6))]"
   ]
  },
  {
   "cell_type": "code",
   "execution_count": null,
   "id": "e8f1c057",
   "metadata": {},
   "outputs": [],
   "source": [
    "tp_7 = [7]\n",
    "ss_7 = df[(df['macAddress'] == 'f4:02:28:5a:28:63') & (df['Test_point'].isin(tp_7))]"
   ]
  },
  {
   "cell_type": "code",
   "execution_count": null,
   "id": "992ef07e",
   "metadata": {},
   "outputs": [],
   "source": [
    "tp_8 = [8]\n",
    "ss_8 = df[(df['macAddress'] == 'f4:02:28:5a:28:63') & (df['Test_point'].isin(tp_8))]"
   ]
  },
  {
   "cell_type": "code",
   "execution_count": null,
   "id": "fa56731c",
   "metadata": {},
   "outputs": [],
   "source": [
    "tp_10 = [10]\n",
    "ss_10 = df[(df['macAddress'] == 'f4:02:28:5a:28:63') & (df['Test_point'].isin(tp_10))]"
   ]
  },
  {
   "cell_type": "code",
   "execution_count": null,
   "id": "d3e84af9",
   "metadata": {},
   "outputs": [],
   "source": [
    "tp_11 = [11]\n",
    "ss_11 = df[(df['macAddress'] == 'f4:02:28:5a:28:63') & (df['Test_point'].isin(tp_11))]"
   ]
  },
  {
   "cell_type": "code",
   "execution_count": null,
   "id": "2c0c728c",
   "metadata": {},
   "outputs": [],
   "source": [
    "tp_12 = [12]\n",
    "ss_12 = df[(df['macAddress'] == 'f4:02:28:5a:28:63') & (df['Test_point'].isin(tp_12))]"
   ]
  },
  {
   "cell_type": "code",
   "execution_count": null,
   "id": "00b3aa18",
   "metadata": {},
   "outputs": [],
   "source": [
    "tp_13 = [13]\n",
    "ss_13 = df[(df['macAddress'] == 'f4:02:28:5a:28:63') & (df['Test_point'].isin(tp_13))]"
   ]
  },
  {
   "cell_type": "code",
   "execution_count": null,
   "id": "9c5a2b61",
   "metadata": {},
   "outputs": [],
   "source": [
    "tp_14 = [14]\n",
    "ss_14 = df[(df['macAddress'] == 'f4:02:28:5a:28:63') & (df['Test_point'].isin(tp_14))]"
   ]
  },
  {
   "cell_type": "code",
   "execution_count": null,
   "id": "a0912f87",
   "metadata": {},
   "outputs": [],
   "source": [
    "tp_15 = [15]\n",
    "ss_15 = df[(df['macAddress'] == 'f4:02:28:5a:28:63') & (df['Test_point'].isin(tp_15))]"
   ]
  },
  {
   "cell_type": "code",
   "execution_count": null,
   "id": "63348e92",
   "metadata": {},
   "outputs": [],
   "source": [
    "rp_1 = df[(df['macAddress'] == 'dc:a6:32:26:67:ab') & (df['Test_point'].isin(tp_1))]\n",
    "rp_2 = df[(df['macAddress'] == 'dc:a6:32:26:67:ab') & (df['Test_point'].isin(tp_2))]\n",
    "rp_3 = df[(df['macAddress'] == 'dc:a6:32:26:67:ab') & (df['Test_point'].isin(tp_3))]\n",
    "rp_4 = df[(df['macAddress'] == 'dc:a6:32:26:67:ab') & (df['Test_point'].isin(tp_4))]\n",
    "rp_5 = df[(df['macAddress'] == 'dc:a6:32:26:67:ab') & (df['Test_point'].isin(tp_5))]\n",
    "rp_6 = df[(df['macAddress'] == 'dc:a6:32:26:67:ab') & (df['Test_point'].isin(tp_6))]\n",
    "rp_7 = df[(df['macAddress'] == 'dc:a6:32:26:67:ab') & (df['Test_point'].isin(tp_7))]\n",
    "rp_8 = df[(df['macAddress'] == 'dc:a6:32:26:67:ab') & (df['Test_point'].isin(tp_8))]\n",
    "rp_10 = df[(df['macAddress'] == 'dc:a6:32:26:67:ab') & (df['Test_point'].isin(tp_10))]\n",
    "rp_11 = df[(df['macAddress'] == 'dc:a6:32:26:67:ab') & (df['Test_point'].isin(tp_11))]\n",
    "rp_12 = df[(df['macAddress'] == 'dc:a6:32:26:67:ab') & (df['Test_point'].isin(tp_12))]\n",
    "rp_13 = df[(df['macAddress'] == 'dc:a6:32:26:67:ab') & (df['Test_point'].isin(tp_13))]\n",
    "rp_14 = df[(df['macAddress'] == 'dc:a6:32:26:67:ab') & (df['Test_point'].isin(tp_14))]\n",
    "rp_15 = df[(df['macAddress'] == 'dc:a6:32:26:67:ab') & (df['Test_point'].isin(tp_15))]"
   ]
  },
  {
   "cell_type": "code",
   "execution_count": null,
   "id": "26aafda3",
   "metadata": {},
   "outputs": [],
   "source": [
    "ss_total"
   ]
  },
  {
   "cell_type": "code",
   "execution_count": null,
   "id": "fc79fd0f",
   "metadata": {},
   "outputs": [],
   "source": [
    "rp_total"
   ]
  },
  {
   "cell_type": "code",
   "execution_count": null,
   "id": "c2e80167",
   "metadata": {},
   "outputs": [],
   "source": [
    "ss_15"
   ]
  },
  {
   "cell_type": "code",
   "execution_count": null,
   "id": "7153311d",
   "metadata": {},
   "outputs": [],
   "source": [
    "ss_14"
   ]
  },
  {
   "cell_type": "code",
   "execution_count": null,
   "id": "5e698a4e",
   "metadata": {},
   "outputs": [],
   "source": [
    "ss_13"
   ]
  },
  {
   "cell_type": "code",
   "execution_count": null,
   "id": "d51db18d",
   "metadata": {},
   "outputs": [],
   "source": [
    "ss_12"
   ]
  },
  {
   "cell_type": "code",
   "execution_count": null,
   "id": "11abb6b4",
   "metadata": {},
   "outputs": [],
   "source": [
    "ss_11"
   ]
  },
  {
   "cell_type": "code",
   "execution_count": null,
   "id": "e8c9341e",
   "metadata": {},
   "outputs": [],
   "source": [
    "ss_10"
   ]
  },
  {
   "cell_type": "code",
   "execution_count": null,
   "id": "aa77ffe7",
   "metadata": {},
   "outputs": [],
   "source": [
    "ss_8"
   ]
  },
  {
   "cell_type": "code",
   "execution_count": null,
   "id": "6692b21f",
   "metadata": {},
   "outputs": [],
   "source": [
    "ss_7"
   ]
  },
  {
   "cell_type": "code",
   "execution_count": null,
   "id": "a4cab487",
   "metadata": {},
   "outputs": [],
   "source": [
    "ss_6"
   ]
  },
  {
   "cell_type": "code",
   "execution_count": null,
   "id": "b3ed5fff",
   "metadata": {},
   "outputs": [],
   "source": [
    "ss_5"
   ]
  },
  {
   "cell_type": "code",
   "execution_count": null,
   "id": "65094e88",
   "metadata": {},
   "outputs": [],
   "source": [
    "ss_4"
   ]
  },
  {
   "cell_type": "code",
   "execution_count": null,
   "id": "659c00c6",
   "metadata": {},
   "outputs": [],
   "source": [
    "ss_3"
   ]
  },
  {
   "cell_type": "code",
   "execution_count": null,
   "id": "eaf309d9",
   "metadata": {},
   "outputs": [],
   "source": [
    "ss_2"
   ]
  },
  {
   "cell_type": "code",
   "execution_count": null,
   "id": "94f7d90b",
   "metadata": {},
   "outputs": [],
   "source": [
    "ss_1"
   ]
  },
  {
   "cell_type": "code",
   "execution_count": null,
   "id": "65dbc371",
   "metadata": {},
   "outputs": [],
   "source": []
  },
  {
   "cell_type": "code",
   "execution_count": null,
   "id": "be09f615",
   "metadata": {},
   "outputs": [],
   "source": [
    "rp_1"
   ]
  },
  {
   "cell_type": "code",
   "execution_count": null,
   "id": "2832c862",
   "metadata": {},
   "outputs": [],
   "source": [
    "rp_2"
   ]
  },
  {
   "cell_type": "code",
   "execution_count": null,
   "id": "ad388090",
   "metadata": {},
   "outputs": [],
   "source": [
    "rp_3"
   ]
  },
  {
   "cell_type": "code",
   "execution_count": null,
   "id": "ab3c5c4a",
   "metadata": {},
   "outputs": [],
   "source": [
    "rp_4"
   ]
  },
  {
   "cell_type": "code",
   "execution_count": null,
   "id": "33d118da",
   "metadata": {},
   "outputs": [],
   "source": [
    "rp_5"
   ]
  },
  {
   "cell_type": "code",
   "execution_count": null,
   "id": "0d287fb8",
   "metadata": {},
   "outputs": [],
   "source": [
    "rp_6"
   ]
  },
  {
   "cell_type": "code",
   "execution_count": null,
   "id": "cebaeefd",
   "metadata": {},
   "outputs": [],
   "source": [
    "rp_7"
   ]
  },
  {
   "cell_type": "code",
   "execution_count": null,
   "id": "81fdffeb",
   "metadata": {},
   "outputs": [],
   "source": [
    "rp_8"
   ]
  },
  {
   "cell_type": "code",
   "execution_count": null,
   "id": "0d4aa1b1",
   "metadata": {},
   "outputs": [],
   "source": [
    "rp_10"
   ]
  },
  {
   "cell_type": "code",
   "execution_count": null,
   "id": "530dfeab",
   "metadata": {},
   "outputs": [],
   "source": [
    "rp_11"
   ]
  },
  {
   "cell_type": "code",
   "execution_count": null,
   "id": "aac3122b",
   "metadata": {},
   "outputs": [],
   "source": [
    "rp_12"
   ]
  },
  {
   "cell_type": "code",
   "execution_count": null,
   "id": "c611bca2",
   "metadata": {},
   "outputs": [],
   "source": [
    "rp_13"
   ]
  },
  {
   "cell_type": "code",
   "execution_count": null,
   "id": "5befd962",
   "metadata": {},
   "outputs": [],
   "source": [
    "rp_14"
   ]
  },
  {
   "cell_type": "code",
   "execution_count": null,
   "id": "445d3ce4",
   "metadata": {},
   "outputs": [],
   "source": [
    "rp_15"
   ]
  },
  {
   "cell_type": "code",
   "execution_count": null,
   "id": "ddab69cc",
   "metadata": {},
   "outputs": [],
   "source": [
    "ss_total.describe()"
   ]
  },
  {
   "cell_type": "code",
   "execution_count": null,
   "id": "261d3b3f",
   "metadata": {},
   "outputs": [],
   "source": [
    "rp_total.describe()"
   ]
  },
  {
   "cell_type": "code",
   "execution_count": null,
   "id": "66e37be9",
   "metadata": {},
   "outputs": [],
   "source": [
    "confidence_box=sns.boxplot(x='confidenceFactor', data=ss_total)"
   ]
  },
  {
   "cell_type": "code",
   "execution_count": null,
   "id": "322e3c71",
   "metadata": {},
   "outputs": [],
   "source": [
    "confidence_box=sns.boxplot(x='confidenceFactor', data=rp_total)"
   ]
  },
  {
   "cell_type": "code",
   "execution_count": null,
   "id": "2e4a33be",
   "metadata": {},
   "outputs": [],
   "source": [
    "sns.distplot(ss_total['RMSE'])"
   ]
  },
  {
   "cell_type": "code",
   "execution_count": null,
   "id": "13c37c33",
   "metadata": {},
   "outputs": [],
   "source": [
    "sns.distplot(rp_total['RMSE'])"
   ]
  },
  {
   "cell_type": "code",
   "execution_count": null,
   "id": "2fd85d7d",
   "metadata": {},
   "outputs": [],
   "source": []
  },
  {
   "cell_type": "code",
   "execution_count": null,
   "id": "807d3ec3",
   "metadata": {},
   "outputs": [],
   "source": []
  },
  {
   "cell_type": "code",
   "execution_count": null,
   "id": "6e26f7c6",
   "metadata": {},
   "outputs": [],
   "source": []
  },
  {
   "cell_type": "code",
   "execution_count": null,
   "id": "92ef1957",
   "metadata": {},
   "outputs": [],
   "source": []
  },
  {
   "cell_type": "code",
   "execution_count": null,
   "id": "6f361156",
   "metadata": {},
   "outputs": [],
   "source": []
  },
  {
   "cell_type": "markdown",
   "id": "f4a596b5",
   "metadata": {},
   "source": [
    "# Analysis & Summary"
   ]
  },
  {
   "cell_type": "markdown",
   "id": "e798c465",
   "metadata": {},
   "source": [
    "# The relationship between confidence factor and precision"
   ]
  },
  {
   "cell_type": "code",
   "execution_count": null,
   "id": "27d25200",
   "metadata": {},
   "outputs": [],
   "source": [
    "plt.figure(figsize=(12,6))\n",
    "plt.plot(ss_total['confidenceFactor'], ss_total['RMSE'])\n",
    "plt.plot(rp_total['confidenceFactor'], rp_total['RMSE'] )\n",
    "plt.xlabel('confidenceFactor')\n",
    "plt.ylabel('RMSE')\n",
    "plt.show()"
   ]
  },
  {
   "cell_type": "code",
   "execution_count": null,
   "id": "f314de46",
   "metadata": {},
   "outputs": [],
   "source": [
    "df"
   ]
  },
  {
   "cell_type": "code",
   "execution_count": null,
   "id": "bf36d52c",
   "metadata": {},
   "outputs": [],
   "source": [
    "plt.figure(figsize=(12,6))\n",
    "#plt.scatter(ss_1['confidenceFactor'], ss_1['RMSE'])\n",
    "plt.scatter(rp_1['confidenceFactor'], rp_1['RMSE'])\n",
    "plt.yticks(np.arange(10,11,0.1))\n",
    "plt.xlabel('confidenceFactor')\n",
    "plt.ylabel('RMSE')\n",
    "plt.show()"
   ]
  },
  {
   "cell_type": "code",
   "execution_count": null,
   "id": "2c3edfe5",
   "metadata": {},
   "outputs": [],
   "source": [
    "plt.rcParams['font.sans-serif'] = 'SimHei'\n",
    "plt.rcParams['axes.unicode_minus'] = False\n",
    "\n",
    "fig,ax = plt.subplots(figsize=(9,6))\n",
    "ax.scatter(x='confidenceFactor',y='RMSE',data=ss_1,alpha=0.3)"
   ]
  },
  {
   "cell_type": "code",
   "execution_count": null,
   "id": "7b3c1104",
   "metadata": {},
   "outputs": [],
   "source": [
    "ss_1['RMSE']"
   ]
  },
  {
   "cell_type": "code",
   "execution_count": null,
   "id": "1f6cfbd0",
   "metadata": {
    "scrolled": true
   },
   "outputs": [],
   "source": [
    "plt.figure(figsize=(12,6))\n",
    "plt.scatter(ss_2['confidenceFactor'], ss_2['RMSE'])\n",
    "plt.scatter(rp_2['confidenceFactor'], rp_2['RMSE'])\n",
    "plt.xlabel('confidenceFactor')\n",
    "plt.ylabel('RMSE')\n",
    "plt.show()"
   ]
  },
  {
   "cell_type": "code",
   "execution_count": null,
   "id": "ed9a8ae1",
   "metadata": {},
   "outputs": [],
   "source": [
    "plt.figure(figsize=(12,6))\n",
    "plt.plot(ss_3['confidenceFactor'], ss_3['RMSE'],'r--')\n",
    "plt.plot(rp_3['confidenceFactor'], rp_3['RMSE'],'g--')\n",
    "plt.xlabel('confidenceFactor')\n",
    "plt.ylabel('RMSE')\n",
    "plt.show()"
   ]
  },
  {
   "cell_type": "code",
   "execution_count": null,
   "id": "d1fdc7bb",
   "metadata": {},
   "outputs": [],
   "source": [
    "plt.figure(figsize=(12,6))\n",
    "plt.plot(ss_4['confidenceFactor'], ss_4['RMSE'],'r--')\n",
    "plt.plot(rp_4['confidenceFactor'], rp_4['RMSE'],'g--')\n",
    "plt.xlabel('confidenceFactor')\n",
    "plt.ylabel('RMSE')\n",
    "plt.show()"
   ]
  },
  {
   "cell_type": "code",
   "execution_count": null,
   "id": "d1a971d8",
   "metadata": {},
   "outputs": [],
   "source": [
    "ss_7.to_csv('./fenkai/ss_7.csv')"
   ]
  },
  {
   "cell_type": "code",
   "execution_count": null,
   "id": "dd6dcaa3",
   "metadata": {},
   "outputs": [],
   "source": [
    "ss_8.to_csv('./fenkai/ss_8.csv')\n",
    "ss_10.to_csv('./fenkai/ss_10.csv')\n",
    "ss_11.to_csv('./fenkai/ss_11.csv')\n",
    "ss_12.to_csv('./fenkai/ss_12.csv')\n",
    "ss_13.to_csv('./fenkai/ss_13.csv')\n",
    "ss_14.to_csv('./fenkai/ss_14.csv')\n",
    "ss_15.to_csv('./fenkai/ss_15.csv')"
   ]
  },
  {
   "cell_type": "code",
   "execution_count": null,
   "id": "e358932b",
   "metadata": {},
   "outputs": [],
   "source": [
    "rp_8.to_csv('./fenkai/rp_8.csv')\n",
    "rp_10.to_csv('./fenkai/rp_10.csv')\n",
    "rp_11.to_csv('./fenkai/rp_11.csv')\n",
    "rp_12.to_csv('./fenkai/rp_12.csv')\n",
    "rp_13.to_csv('./fenkai/rp_13.csv')\n",
    "rp_14.to_csv('./fenkai/rp_14.csv')\n",
    "rp_15.to_csv('./fenkai/rp_15.csv')"
   ]
  },
  {
   "cell_type": "code",
   "execution_count": null,
   "id": "4195b1e6",
   "metadata": {},
   "outputs": [],
   "source": [
    "rp_7.to_csv('./fenkai/rp_7.csv')\n",
    "rp_6.to_csv('./fenkai/rp_6.csv')\n",
    "rp_5.to_csv('./fenkai/rp_5.csv')\n",
    "rp_4.to_csv('./fenkai/rp_4.csv')\n",
    "rp_3.to_csv('./fenkai/rp_3.csv')\n",
    "rp_2.to_csv('./fenkai/rp_2.csv')\n",
    "rp_1.to_csv('./fenkai/rp_1.csv')\n",
    "rp_total.to_csv('./fenkai/rp_total.csv')\n",
    "ss_total.to_csv('./fenkai/ss_total.csv')"
   ]
  },
  {
   "cell_type": "code",
   "execution_count": null,
   "id": "b47f408e",
   "metadata": {},
   "outputs": [],
   "source": [
    "rp_17.to_csv('./fenkai/rp_17.csv')\n",
    "rp_16.to_csv('./fenkai/rp_16.csv')\n",
    "rp_18.to_csv('./fenkai/rp_18.csv')\n",
    "rp_19.to_csv('./fenkai/rp_19.csv')"
   ]
  }
 ],
 "metadata": {
  "kernelspec": {
   "display_name": "Python 3 (ipykernel)",
   "language": "python",
   "name": "python3"
  },
  "language_info": {
   "codemirror_mode": {
    "name": "ipython",
    "version": 3
   },
   "file_extension": ".py",
   "mimetype": "text/x-python",
   "name": "python",
   "nbconvert_exporter": "python",
   "pygments_lexer": "ipython3",
   "version": "3.8.12"
  }
 },
 "nbformat": 4,
 "nbformat_minor": 5
}
