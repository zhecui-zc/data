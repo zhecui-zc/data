{
 "cells": [
  {
   "cell_type": "code",
   "execution_count": 1,
   "id": "df0c7727",
   "metadata": {},
   "outputs": [],
   "source": [
    "import pandas as pd"
   ]
  },
  {
   "cell_type": "code",
   "execution_count": 2,
   "id": "ef24d52e",
   "metadata": {},
   "outputs": [],
   "source": [
    "df1 = pd.read_csv(\"./rp_1.csv\")\n",
    "df2 = pd.read_csv(\"./rp_2.csv\")\n",
    "df3 = pd.read_csv(\"./rp_3.csv\")\n",
    "df4 = pd.read_csv(\"./rp_4.csv\")\n",
    "df5 = pd.read_csv(\"./rp_5.csv\")\n",
    "df6 = pd.read_csv(\"./rp_6.csv\")\n",
    "df7 = pd.read_csv(\"./rp_7.csv\")\n",
    "df8 = pd.read_csv(\"./rp_8.csv\")\n",
    "df10 = pd.read_csv(\"./rp_10.csv\")\n",
    "df11 = pd.read_csv(\"./rp_11.csv\")\n",
    "df12 = pd.read_csv(\"./rp_12.csv\")\n",
    "df13 = pd.read_csv(\"./rp_13.csv\")\n",
    "df14 = pd.read_csv(\"./rp_14.csv\")\n",
    "df15 = pd.read_csv(\"./rp_15.csv\")\n",
    "df16 = pd.read_csv(\"./rp_16.csv\")\n",
    "df17 = pd.read_csv(\"./rp_17.csv\")\n",
    "df18 = pd.read_csv(\"./rp_18.csv\")\n",
    "df19 = pd.read_csv(\"./rp_19.csv\")\n",
    "df20 = pd.read_csv(\"./rp_20.csv\")\n",
    "df21 = pd.read_csv(\"./rp_21.csv\")\n",
    "df22 = pd.read_csv(\"./rp_22.csv\")\n",
    "df23 = pd.read_csv(\"./rp_23.csv\")\n",
    "df24 = pd.read_csv(\"./rp_24.csv\")\n",
    "df25 = pd.read_csv(\"./rp_25.csv\")\n",
    "df26 = pd.read_csv(\"./rp_26.csv\")"
   ]
  },
  {
   "cell_type": "code",
   "execution_count": 3,
   "id": "7105f2f5",
   "metadata": {},
   "outputs": [],
   "source": [
    "df1_3 = pd.concat([df1,df2,df3])\n",
    "df4_6 = pd.concat([df4,df5,df6])\n",
    "df7_10 = pd.concat([df7,df8,df10])\n",
    "df11_13 = pd.concat([df11,df12,df13])\n",
    "df14_16 = pd.concat([df14,df15,df16])\n",
    "df17_19 = pd.concat([df17,df18,df19])\n",
    "df20_22 = pd.concat([df20,df21,df22])\n",
    "df24_26 = pd.concat([df24,df25,df26])"
   ]
  },
  {
   "cell_type": "code",
   "execution_count": null,
   "id": "caf54309",
   "metadata": {},
   "outputs": [],
   "source": []
  }
 ],
 "metadata": {
  "kernelspec": {
   "display_name": "Python 3 (ipykernel)",
   "language": "python",
   "name": "python3"
  },
  "language_info": {
   "codemirror_mode": {
    "name": "ipython",
    "version": 3
   },
   "file_extension": ".py",
   "mimetype": "text/x-python",
   "name": "python",
   "nbconvert_exporter": "python",
   "pygments_lexer": "ipython3",
   "version": "3.9.12"
  }
 },
 "nbformat": 4,
 "nbformat_minor": 5
}
