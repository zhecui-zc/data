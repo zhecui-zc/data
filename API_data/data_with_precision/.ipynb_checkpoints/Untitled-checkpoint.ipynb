{
 "cells": [
  {
   "cell_type": "code",
   "execution_count": 5,
   "id": "ec3d0dda",
   "metadata": {},
   "outputs": [],
   "source": [
    "import pandas as pd\n",
    "import numpy"
   ]
  },
  {
   "cell_type": "code",
   "execution_count": 6,
   "id": "11d82f5e",
   "metadata": {},
   "outputs": [],
   "source": [
    "data = pd.read_csv(\"./test_point_15.csv\")"
   ]
  },
  {
   "cell_type": "code",
   "execution_count": 7,
   "id": "5ef3ce55",
   "metadata": {},
   "outputs": [],
   "source": [
    "data['Test_point'] = '15'"
   ]
  },
  {
   "cell_type": "code",
   "execution_count": 8,
   "id": "ec19dd93",
   "metadata": {},
   "outputs": [],
   "source": [
    "data.to_csv('./test_point_15.csv')"
   ]
  },
  {
   "cell_type": "code",
   "execution_count": null,
   "id": "ead2a0b5",
   "metadata": {},
   "outputs": [],
   "source": []
  },
  {
   "cell_type": "code",
   "execution_count": 8,
   "id": "26711fff",
   "metadata": {},
   "outputs": [
    {
     "name": "stdout",
     "output_type": "stream",
     "text": [
      "(3279, 11)\n"
     ]
    }
   ],
   "source": [
    "import pandas as pd\n",
    " \n",
    "df1 = pd.read_csv(\"./test_point_1.csv\")#读取第一个文件\n",
    " \n",
    "df2 = pd.read_csv(\"./test_point_2.csv\")#读取第二个文件\n",
    " \n",
    "df3 = pd.read_csv(\"./test_point_3.csv\")#读取第三个文件\n",
    "df3 = pd.read_csv(\"./test_point_4.csv\") \n",
    "df3 = pd.read_csv(\"./test_point_5.csv\")    \n",
    "df3 = pd.read_csv(\"./test_point_5.csv\")    \n",
    "    \n",
    "    \n",
    "file = [df1, df2, df3]\n",
    " \n",
    "\n",
    "outfile = pd.concat(file)#竖着拼\n",
    " \n",
    "outfile.to_csv(\"NegativeYH\"+\".csv\",index=0, sep=',')#输出文件名NegativeYH\n",
    " \n",
    "print(outfile.shape)#查看文件大小"
   ]
  },
  {
   "cell_type": "code",
   "execution_count": null,
   "id": "9fcbf5e8",
   "metadata": {},
   "outputs": [],
   "source": []
  }
 ],
 "metadata": {
  "kernelspec": {
   "display_name": "Python 3 (ipykernel)",
   "language": "python",
   "name": "python3"
  },
  "language_info": {
   "codemirror_mode": {
    "name": "ipython",
    "version": 3
   },
   "file_extension": ".py",
   "mimetype": "text/x-python",
   "name": "python",
   "nbconvert_exporter": "python",
   "pygments_lexer": "ipython3",
   "version": "3.9.12"
  }
 },
 "nbformat": 4,
 "nbformat_minor": 5
}
