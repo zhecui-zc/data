{
 "cells": [
  {
   "cell_type": "code",
   "execution_count": null,
   "id": "0596404c",
   "metadata": {},
   "outputs": [],
   "source": []
  },
  {
   "cell_type": "markdown",
   "id": "d2c4202f",
   "metadata": {},
   "source": [
    "# Data Preprocessing"
   ]
  },
  {
   "cell_type": "code",
   "execution_count": 18,
   "id": "deebc193",
   "metadata": {},
   "outputs": [],
   "source": [
    "import pandas as pd\n",
    "import seaborn as sns\n",
    "import matplotlib.pyplot as plt\n",
    "import matplotlib\n",
    "import numpy as np"
   ]
  },
  {
   "cell_type": "code",
   "execution_count": 19,
   "id": "e7da9eb7",
   "metadata": {},
   "outputs": [],
   "source": [
    "df = pd.read_csv(\"./All.csv\")"
   ]
  },
  {
   "cell_type": "markdown",
   "id": "89cefbdb",
   "metadata": {},
   "source": [
    "Check the shape and check for null/NaN values."
   ]
  },
  {
   "cell_type": "code",
   "execution_count": 20,
   "id": "b9642c65",
   "metadata": {},
   "outputs": [
    {
     "data": {
      "text/plain": [
       "(14120, 9)"
      ]
     },
     "execution_count": 20,
     "metadata": {},
     "output_type": "execute_result"
    }
   ],
   "source": [
    "df.shape"
   ]
  },
  {
   "cell_type": "code",
   "execution_count": 21,
   "id": "dcf5697a",
   "metadata": {},
   "outputs": [
    {
     "data": {
      "text/plain": [
       "macAddress              0\n",
       "locationCoordinate_x    0\n",
       "locationCoordinate_y    0\n",
       "confidenceFactor        0\n",
       "maxDetectedRssi         0\n",
       "CMX_lastSeen            0\n",
       "Real_Time               0\n",
       "RMSE                    0\n",
       "Test_point              0\n",
       "dtype: int64"
      ]
     },
     "execution_count": 21,
     "metadata": {},
     "output_type": "execute_result"
    }
   ],
   "source": [
    "df.isnull().sum()"
   ]
  },
  {
   "cell_type": "markdown",
   "id": "d7a18752",
   "metadata": {},
   "source": [
    "Produce statistics describing the dataset."
   ]
  },
  {
   "cell_type": "code",
   "execution_count": 22,
   "id": "e7610795",
   "metadata": {},
   "outputs": [
    {
     "data": {
      "text/html": [
       "<div>\n",
       "<style scoped>\n",
       "    .dataframe tbody tr th:only-of-type {\n",
       "        vertical-align: middle;\n",
       "    }\n",
       "\n",
       "    .dataframe tbody tr th {\n",
       "        vertical-align: top;\n",
       "    }\n",
       "\n",
       "    .dataframe thead th {\n",
       "        text-align: right;\n",
       "    }\n",
       "</style>\n",
       "<table border=\"1\" class=\"dataframe\">\n",
       "  <thead>\n",
       "    <tr style=\"text-align: right;\">\n",
       "      <th></th>\n",
       "      <th>locationCoordinate_x</th>\n",
       "      <th>locationCoordinate_y</th>\n",
       "      <th>confidenceFactor</th>\n",
       "      <th>maxDetectedRssi</th>\n",
       "      <th>RMSE</th>\n",
       "      <th>Test_point</th>\n",
       "    </tr>\n",
       "  </thead>\n",
       "  <tbody>\n",
       "    <tr>\n",
       "      <th>count</th>\n",
       "      <td>14120.000000</td>\n",
       "      <td>14120.000000</td>\n",
       "      <td>14120.000000</td>\n",
       "      <td>14120.000000</td>\n",
       "      <td>14120.000000</td>\n",
       "      <td>14120.000000</td>\n",
       "    </tr>\n",
       "    <tr>\n",
       "      <th>mean</th>\n",
       "      <td>35.437170</td>\n",
       "      <td>22.836169</td>\n",
       "      <td>63.985836</td>\n",
       "      <td>-58.858074</td>\n",
       "      <td>20.190445</td>\n",
       "      <td>7.522592</td>\n",
       "    </tr>\n",
       "    <tr>\n",
       "      <th>std</th>\n",
       "      <td>19.164428</td>\n",
       "      <td>14.844224</td>\n",
       "      <td>22.416183</td>\n",
       "      <td>8.744395</td>\n",
       "      <td>14.704062</td>\n",
       "      <td>4.408788</td>\n",
       "    </tr>\n",
       "    <tr>\n",
       "      <th>min</th>\n",
       "      <td>0.000000</td>\n",
       "      <td>0.000000</td>\n",
       "      <td>16.000000</td>\n",
       "      <td>-82.000000</td>\n",
       "      <td>0.040496</td>\n",
       "      <td>1.000000</td>\n",
       "    </tr>\n",
       "    <tr>\n",
       "      <th>25%</th>\n",
       "      <td>19.913568</td>\n",
       "      <td>9.943025</td>\n",
       "      <td>40.000000</td>\n",
       "      <td>-63.000000</td>\n",
       "      <td>8.113044</td>\n",
       "      <td>4.000000</td>\n",
       "    </tr>\n",
       "    <tr>\n",
       "      <th>50%</th>\n",
       "      <td>29.884478</td>\n",
       "      <td>28.000000</td>\n",
       "      <td>80.000000</td>\n",
       "      <td>-57.000000</td>\n",
       "      <td>16.947985</td>\n",
       "      <td>7.000000</td>\n",
       "    </tr>\n",
       "    <tr>\n",
       "      <th>75%</th>\n",
       "      <td>49.281967</td>\n",
       "      <td>34.659386</td>\n",
       "      <td>80.000000</td>\n",
       "      <td>-55.000000</td>\n",
       "      <td>27.963372</td>\n",
       "      <td>11.000000</td>\n",
       "    </tr>\n",
       "    <tr>\n",
       "      <th>max</th>\n",
       "      <td>78.446720</td>\n",
       "      <td>44.020000</td>\n",
       "      <td>120.000000</td>\n",
       "      <td>-39.000000</td>\n",
       "      <td>59.180176</td>\n",
       "      <td>15.000000</td>\n",
       "    </tr>\n",
       "  </tbody>\n",
       "</table>\n",
       "</div>"
      ],
      "text/plain": [
       "       locationCoordinate_x  locationCoordinate_y  confidenceFactor  \\\n",
       "count          14120.000000          14120.000000      14120.000000   \n",
       "mean              35.437170             22.836169         63.985836   \n",
       "std               19.164428             14.844224         22.416183   \n",
       "min                0.000000              0.000000         16.000000   \n",
       "25%               19.913568              9.943025         40.000000   \n",
       "50%               29.884478             28.000000         80.000000   \n",
       "75%               49.281967             34.659386         80.000000   \n",
       "max               78.446720             44.020000        120.000000   \n",
       "\n",
       "       maxDetectedRssi          RMSE    Test_point  \n",
       "count     14120.000000  14120.000000  14120.000000  \n",
       "mean        -58.858074     20.190445      7.522592  \n",
       "std           8.744395     14.704062      4.408788  \n",
       "min         -82.000000      0.040496      1.000000  \n",
       "25%         -63.000000      8.113044      4.000000  \n",
       "50%         -57.000000     16.947985      7.000000  \n",
       "75%         -55.000000     27.963372     11.000000  \n",
       "max         -39.000000     59.180176     15.000000  "
      ]
     },
     "execution_count": 22,
     "metadata": {},
     "output_type": "execute_result"
    }
   ],
   "source": [
    "df.describe()"
   ]
  },
  {
   "cell_type": "code",
   "execution_count": 23,
   "id": "d61a5683",
   "metadata": {},
   "outputs": [
    {
     "data": {
      "image/png": "[encoded data removed]",
      "text/plain": [
       "<Figure size 432x288 with 1 Axes>"
      ]
     },
     "metadata": {
      "needs_background": "light"
     },
     "output_type": "display_data"
    }
   ],
   "source": [
    "confidence_box=sns.boxplot(x='confidenceFactor', data=df)"
   ]
  },
  {
   "cell_type": "markdown",
   "id": "30d09559",
   "metadata": {},
   "source": [
    "Let's plot the distribution of RMSE to find out in what range the CMX fall in terms of RMSE."
   ]
  },
  {
   "cell_type": "code",
   "execution_count": 24,
   "id": "f52a61e0",
   "metadata": {},
   "outputs": [
    {
     "name": "stderr",
     "output_type": "stream",
     "text": [
      "C:\\Users\\zcui\\Anaconda3\\lib\\site-packages\\seaborn\\distributions.py:2619: FutureWarning: `distplot` is a deprecated function and will be removed in a future version. Please adapt your code to use either `displot` (a figure-level function with similar flexibility) or `histplot` (an axes-level function for histograms).\n",
      "  warnings.warn(msg, FutureWarning)\n"
     ]
    },
    {
     "data": {
      "text/plain": [
       "<AxesSubplot:xlabel='RMSE', ylabel='Density'>"
      ]
     },
     "execution_count": 24,
     "metadata": {},
     "output_type": "execute_result"
    },
    {
     "data": {
      "image/png": "[encoded data removed]",
      "text/plain": [
       "<Figure size 432x288 with 1 Axes>"
      ]
     },
     "metadata": {
      "needs_background": "light"
     },
     "output_type": "display_data"
    }
   ],
   "source": [
    "sns.distplot(df['RMSE'])"
   ]
  },
  {
   "cell_type": "code",
   "execution_count": null,
   "id": "46a0a52e",
   "metadata": {},
   "outputs": [],
   "source": []
  },
  {
   "cell_type": "code",
   "execution_count": null,
   "id": "7f08106f",
   "metadata": {},
   "outputs": [],
   "source": []
  },
  {
   "cell_type": "code",
   "execution_count": null,
   "id": "9e8a345e",
   "metadata": {},
   "outputs": [],
   "source": []
  },
  {
   "cell_type": "code",
   "execution_count": null,
   "id": "cc0ae411",
   "metadata": {},
   "outputs": [],
   "source": []
  },
  {
   "cell_type": "markdown",
   "id": "f4a596b5",
   "metadata": {},
   "source": [
    "# Analysis & Summary"
   ]
  },
  {
   "cell_type": "markdown",
   "id": "e798c465",
   "metadata": {},
   "source": [
    "# The relationship between confidence factor and precision"
   ]
  },
  {
   "cell_type": "code",
   "execution_count": 8,
   "id": "e2028e10",
   "metadata": {},
   "outputs": [],
   "source": [
    "#Acquiring the macAddress of devices\n",
    "\n",
    "mAdd = set()\n",
    "for i in df['macAddress'].str.split(','):\n",
    "    mAdd = set().union(i,mAdd)    "
   ]
  },
  {
   "cell_type": "code",
   "execution_count": 9,
   "id": "191159a1",
   "metadata": {},
   "outputs": [],
   "source": [
    "#for loop, lan is a list, la is a string\n",
    "for mA in mAdd:\n",
    "    df[mA] = df['macAddress'].str.contains(mA).apply(lambda x:1 if x else 0)"
   ]
  },
  {
   "cell_type": "code",
   "execution_count": 10,
   "id": "c61cc3cd",
   "metadata": {},
   "outputs": [
    {
     "name": "stderr",
     "output_type": "stream",
     "text": [
      "C:\\Users\\zcui\\AppData\\Local\\Temp\\ipykernel_7892\\2975791856.py:2: FutureWarning: Passing a set as an indexer is deprecated and will raise in a future version. Use a list instead.\n",
      "  df_gy = df.loc[:,mAdd]\n"
     ]
    },
    {
     "data": {
      "text/html": [
       "<div>\n",
       "<style scoped>\n",
       "    .dataframe tbody tr th:only-of-type {\n",
       "        vertical-align: middle;\n",
       "    }\n",
       "\n",
       "    .dataframe tbody tr th {\n",
       "        vertical-align: top;\n",
       "    }\n",
       "\n",
       "    .dataframe thead th {\n",
       "        text-align: right;\n",
       "    }\n",
       "</style>\n",
       "<table border=\"1\" class=\"dataframe\">\n",
       "  <thead>\n",
       "    <tr style=\"text-align: right;\">\n",
       "      <th></th>\n",
       "      <th>f4:02:28:5a:28:63</th>\n",
       "      <th>dc:a6:32:26:67:ab</th>\n",
       "    </tr>\n",
       "  </thead>\n",
       "  <tbody>\n",
       "    <tr>\n",
       "      <th>0</th>\n",
       "      <td>1</td>\n",
       "      <td>0</td>\n",
       "    </tr>\n",
       "    <tr>\n",
       "      <th>1</th>\n",
       "      <td>1</td>\n",
       "      <td>0</td>\n",
       "    </tr>\n",
       "    <tr>\n",
       "      <th>2</th>\n",
       "      <td>1</td>\n",
       "      <td>0</td>\n",
       "    </tr>\n",
       "    <tr>\n",
       "      <th>3</th>\n",
       "      <td>1</td>\n",
       "      <td>0</td>\n",
       "    </tr>\n",
       "    <tr>\n",
       "      <th>4</th>\n",
       "      <td>1</td>\n",
       "      <td>0</td>\n",
       "    </tr>\n",
       "    <tr>\n",
       "      <th>...</th>\n",
       "      <td>...</td>\n",
       "      <td>...</td>\n",
       "    </tr>\n",
       "    <tr>\n",
       "      <th>1101</th>\n",
       "      <td>0</td>\n",
       "      <td>1</td>\n",
       "    </tr>\n",
       "    <tr>\n",
       "      <th>1102</th>\n",
       "      <td>0</td>\n",
       "      <td>1</td>\n",
       "    </tr>\n",
       "    <tr>\n",
       "      <th>1103</th>\n",
       "      <td>0</td>\n",
       "      <td>1</td>\n",
       "    </tr>\n",
       "    <tr>\n",
       "      <th>1104</th>\n",
       "      <td>0</td>\n",
       "      <td>1</td>\n",
       "    </tr>\n",
       "    <tr>\n",
       "      <th>1105</th>\n",
       "      <td>0</td>\n",
       "      <td>1</td>\n",
       "    </tr>\n",
       "  </tbody>\n",
       "</table>\n",
       "<p>1106 rows × 2 columns</p>\n",
       "</div>"
      ],
      "text/plain": [
       "      f4:02:28:5a:28:63  dc:a6:32:26:67:ab\n",
       "0                     1                  0\n",
       "1                     1                  0\n",
       "2                     1                  0\n",
       "3                     1                  0\n",
       "4                     1                  0\n",
       "...                 ...                ...\n",
       "1101                  0                  1\n",
       "1102                  0                  1\n",
       "1103                  0                  1\n",
       "1104                  0                  1\n",
       "1105                  0                  1\n",
       "\n",
       "[1106 rows x 2 columns]"
      ]
     },
     "execution_count": 10,
     "metadata": {},
     "output_type": "execute_result"
    }
   ],
   "source": [
    "#Return 1 if each line contains a macAddress, 0 otherwise\n",
    "df_gy = df.loc[:,mAdd]\n",
    "df_gy"
   ]
  },
  {
   "cell_type": "code",
   "execution_count": 11,
   "id": "a9822e26",
   "metadata": {},
   "outputs": [
    {
     "data": {
      "text/html": [
       "<div>\n",
       "<style scoped>\n",
       "    .dataframe tbody tr th:only-of-type {\n",
       "        vertical-align: middle;\n",
       "    }\n",
       "\n",
       "    .dataframe tbody tr th {\n",
       "        vertical-align: top;\n",
       "    }\n",
       "\n",
       "    .dataframe thead th {\n",
       "        text-align: right;\n",
       "    }\n",
       "</style>\n",
       "<table border=\"1\" class=\"dataframe\">\n",
       "  <thead>\n",
       "    <tr style=\"text-align: right;\">\n",
       "      <th></th>\n",
       "      <th>f4:02:28:5a:28:63</th>\n",
       "      <th>dc:a6:32:26:67:ab</th>\n",
       "    </tr>\n",
       "    <tr>\n",
       "      <th>RMSE</th>\n",
       "      <th></th>\n",
       "      <th></th>\n",
       "    </tr>\n",
       "  </thead>\n",
       "  <tbody>\n",
       "    <tr>\n",
       "      <th>34.962825</th>\n",
       "      <td>1</td>\n",
       "      <td>0</td>\n",
       "    </tr>\n",
       "    <tr>\n",
       "      <th>34.962825</th>\n",
       "      <td>1</td>\n",
       "      <td>0</td>\n",
       "    </tr>\n",
       "    <tr>\n",
       "      <th>34.962825</th>\n",
       "      <td>1</td>\n",
       "      <td>0</td>\n",
       "    </tr>\n",
       "    <tr>\n",
       "      <th>34.962825</th>\n",
       "      <td>1</td>\n",
       "      <td>0</td>\n",
       "    </tr>\n",
       "    <tr>\n",
       "      <th>34.962825</th>\n",
       "      <td>1</td>\n",
       "      <td>0</td>\n",
       "    </tr>\n",
       "  </tbody>\n",
       "</table>\n",
       "</div>"
      ],
      "text/plain": [
       "           f4:02:28:5a:28:63  dc:a6:32:26:67:ab\n",
       "RMSE                                           \n",
       "34.962825                  1                  0\n",
       "34.962825                  1                  0\n",
       "34.962825                  1                  0\n",
       "34.962825                  1                  0\n",
       "34.962825                  1                  0"
      ]
     },
     "execution_count": 11,
     "metadata": {},
     "output_type": "execute_result"
    }
   ],
   "source": [
    "df_gy.index=df['RMSE']\n",
    "df_gy.head()"
   ]
  },
  {
   "cell_type": "code",
   "execution_count": 12,
   "id": "27d25200",
   "metadata": {},
   "outputs": [
    {
     "data": {
      "image/png": "[encoded data removed]",
      "text/plain": [
       "<Figure size 864x432 with 1 Axes>"
      ]
     },
     "metadata": {
      "needs_background": "light"
     },
     "output_type": "display_data"
    }
   ],
   "source": [
    "plt.figure(figsize=(12,6))\n",
    "plt.plot(df['confidenceFactor'], df['RMSE'], 'r--')\n",
    "plt.xlabel('confidenceFactor')\n",
    "plt.ylabel('RMSE')\n",
    "plt.show()"
   ]
  },
  {
   "cell_type": "code",
   "execution_count": 13,
   "id": "9c38839c",
   "metadata": {},
   "outputs": [
    {
     "data": {
      "text/html": [
       "<div>\n",
       "<style scoped>\n",
       "    .dataframe tbody tr th:only-of-type {\n",
       "        vertical-align: middle;\n",
       "    }\n",
       "\n",
       "    .dataframe tbody tr th {\n",
       "        vertical-align: top;\n",
       "    }\n",
       "\n",
       "    .dataframe thead th {\n",
       "        text-align: right;\n",
       "    }\n",
       "</style>\n",
       "<table border=\"1\" class=\"dataframe\">\n",
       "  <thead>\n",
       "    <tr style=\"text-align: right;\">\n",
       "      <th></th>\n",
       "      <th>Unnamed: 0.1</th>\n",
       "      <th>Unnamed: 0</th>\n",
       "      <th>macAddress</th>\n",
       "      <th>locationCoordinate_x</th>\n",
       "      <th>locationCoordinate_y</th>\n",
       "      <th>confidenceFactor</th>\n",
       "      <th>maxDetectedRssi</th>\n",
       "      <th>CMX_lastSeen</th>\n",
       "      <th>Real_Time</th>\n",
       "      <th>RMSE</th>\n",
       "      <th>Test_point</th>\n",
       "      <th>f4:02:28:5a:28:63</th>\n",
       "      <th>dc:a6:32:26:67:ab</th>\n",
       "    </tr>\n",
       "  </thead>\n",
       "  <tbody>\n",
       "    <tr>\n",
       "      <th>0</th>\n",
       "      <td>0</td>\n",
       "      <td>0</td>\n",
       "      <td>f4:02:28:5a:28:63</td>\n",
       "      <td>17.737040</td>\n",
       "      <td>34.657078</td>\n",
       "      <td>40</td>\n",
       "      <td>-59</td>\n",
       "      <td>2022-07-08T12:18:37.455+0100</td>\n",
       "      <td>2022-07-08 12:22:58</td>\n",
       "      <td>34.962825</td>\n",
       "      <td>1</td>\n",
       "      <td>1</td>\n",
       "      <td>0</td>\n",
       "    </tr>\n",
       "    <tr>\n",
       "      <th>1</th>\n",
       "      <td>1</td>\n",
       "      <td>1</td>\n",
       "      <td>f4:02:28:5a:28:63</td>\n",
       "      <td>17.737040</td>\n",
       "      <td>34.657078</td>\n",
       "      <td>40</td>\n",
       "      <td>-59</td>\n",
       "      <td>2022-07-08T12:18:37.455+0100</td>\n",
       "      <td>2022-07-08 12:23:00</td>\n",
       "      <td>34.962825</td>\n",
       "      <td>1</td>\n",
       "      <td>1</td>\n",
       "      <td>0</td>\n",
       "    </tr>\n",
       "    <tr>\n",
       "      <th>2</th>\n",
       "      <td>2</td>\n",
       "      <td>2</td>\n",
       "      <td>f4:02:28:5a:28:63</td>\n",
       "      <td>17.737040</td>\n",
       "      <td>34.657078</td>\n",
       "      <td>40</td>\n",
       "      <td>-59</td>\n",
       "      <td>2022-07-08T12:18:37.455+0100</td>\n",
       "      <td>2022-07-08 12:23:01</td>\n",
       "      <td>34.962825</td>\n",
       "      <td>1</td>\n",
       "      <td>1</td>\n",
       "      <td>0</td>\n",
       "    </tr>\n",
       "    <tr>\n",
       "      <th>3</th>\n",
       "      <td>3</td>\n",
       "      <td>3</td>\n",
       "      <td>f4:02:28:5a:28:63</td>\n",
       "      <td>17.737040</td>\n",
       "      <td>34.657078</td>\n",
       "      <td>40</td>\n",
       "      <td>-59</td>\n",
       "      <td>2022-07-08T12:18:37.455+0100</td>\n",
       "      <td>2022-07-08 12:23:02</td>\n",
       "      <td>34.962825</td>\n",
       "      <td>1</td>\n",
       "      <td>1</td>\n",
       "      <td>0</td>\n",
       "    </tr>\n",
       "    <tr>\n",
       "      <th>4</th>\n",
       "      <td>4</td>\n",
       "      <td>4</td>\n",
       "      <td>f4:02:28:5a:28:63</td>\n",
       "      <td>17.737040</td>\n",
       "      <td>34.657078</td>\n",
       "      <td>40</td>\n",
       "      <td>-59</td>\n",
       "      <td>2022-07-08T12:18:37.455+0100</td>\n",
       "      <td>2022-07-08 12:23:03</td>\n",
       "      <td>34.962825</td>\n",
       "      <td>1</td>\n",
       "      <td>1</td>\n",
       "      <td>0</td>\n",
       "    </tr>\n",
       "    <tr>\n",
       "      <th>...</th>\n",
       "      <td>...</td>\n",
       "      <td>...</td>\n",
       "      <td>...</td>\n",
       "      <td>...</td>\n",
       "      <td>...</td>\n",
       "      <td>...</td>\n",
       "      <td>...</td>\n",
       "      <td>...</td>\n",
       "      <td>...</td>\n",
       "      <td>...</td>\n",
       "      <td>...</td>\n",
       "      <td>...</td>\n",
       "      <td>...</td>\n",
       "    </tr>\n",
       "    <tr>\n",
       "      <th>1101</th>\n",
       "      <td>1101</td>\n",
       "      <td>1101</td>\n",
       "      <td>dc:a6:32:26:67:ab</td>\n",
       "      <td>13.969873</td>\n",
       "      <td>1.202192</td>\n",
       "      <td>80</td>\n",
       "      <td>-58</td>\n",
       "      <td>2022-07-08T12:42:53.834+0100</td>\n",
       "      <td>2022-07-08 12:42:53</td>\n",
       "      <td>1.470323</td>\n",
       "      <td>1</td>\n",
       "      <td>0</td>\n",
       "      <td>1</td>\n",
       "    </tr>\n",
       "    <tr>\n",
       "      <th>1102</th>\n",
       "      <td>1102</td>\n",
       "      <td>1102</td>\n",
       "      <td>dc:a6:32:26:67:ab</td>\n",
       "      <td>13.969873</td>\n",
       "      <td>1.202192</td>\n",
       "      <td>80</td>\n",
       "      <td>-58</td>\n",
       "      <td>2022-07-08T12:42:53.834+0100</td>\n",
       "      <td>2022-07-08 12:42:54</td>\n",
       "      <td>1.470323</td>\n",
       "      <td>1</td>\n",
       "      <td>0</td>\n",
       "      <td>1</td>\n",
       "    </tr>\n",
       "    <tr>\n",
       "      <th>1103</th>\n",
       "      <td>1103</td>\n",
       "      <td>1103</td>\n",
       "      <td>dc:a6:32:26:67:ab</td>\n",
       "      <td>16.770594</td>\n",
       "      <td>0.803267</td>\n",
       "      <td>80</td>\n",
       "      <td>-57</td>\n",
       "      <td>2022-07-08T12:42:55.835+0100</td>\n",
       "      <td>2022-07-08 12:42:55</td>\n",
       "      <td>3.734642</td>\n",
       "      <td>1</td>\n",
       "      <td>0</td>\n",
       "      <td>1</td>\n",
       "    </tr>\n",
       "    <tr>\n",
       "      <th>1104</th>\n",
       "      <td>1104</td>\n",
       "      <td>1104</td>\n",
       "      <td>dc:a6:32:26:67:ab</td>\n",
       "      <td>16.770594</td>\n",
       "      <td>0.803267</td>\n",
       "      <td>80</td>\n",
       "      <td>-57</td>\n",
       "      <td>2022-07-08T12:42:55.835+0100</td>\n",
       "      <td>2022-07-08 12:42:57</td>\n",
       "      <td>3.734642</td>\n",
       "      <td>1</td>\n",
       "      <td>0</td>\n",
       "      <td>1</td>\n",
       "    </tr>\n",
       "    <tr>\n",
       "      <th>1105</th>\n",
       "      <td>1105</td>\n",
       "      <td>1105</td>\n",
       "      <td>dc:a6:32:26:67:ab</td>\n",
       "      <td>16.819727</td>\n",
       "      <td>0.797808</td>\n",
       "      <td>80</td>\n",
       "      <td>-58</td>\n",
       "      <td>2022-07-08T12:42:57.876+0100</td>\n",
       "      <td>2022-07-08 12:42:58</td>\n",
       "      <td>3.781485</td>\n",
       "      <td>1</td>\n",
       "      <td>0</td>\n",
       "      <td>1</td>\n",
       "    </tr>\n",
       "  </tbody>\n",
       "</table>\n",
       "<p>1106 rows × 13 columns</p>\n",
       "</div>"
      ],
      "text/plain": [
       "      Unnamed: 0.1  Unnamed: 0         macAddress  locationCoordinate_x  \\\n",
       "0                0           0  f4:02:28:5a:28:63             17.737040   \n",
       "1                1           1  f4:02:28:5a:28:63             17.737040   \n",
       "2                2           2  f4:02:28:5a:28:63             17.737040   \n",
       "3                3           3  f4:02:28:5a:28:63             17.737040   \n",
       "4                4           4  f4:02:28:5a:28:63             17.737040   \n",
       "...            ...         ...                ...                   ...   \n",
       "1101          1101        1101  dc:a6:32:26:67:ab             13.969873   \n",
       "1102          1102        1102  dc:a6:32:26:67:ab             13.969873   \n",
       "1103          1103        1103  dc:a6:32:26:67:ab             16.770594   \n",
       "1104          1104        1104  dc:a6:32:26:67:ab             16.770594   \n",
       "1105          1105        1105  dc:a6:32:26:67:ab             16.819727   \n",
       "\n",
       "      locationCoordinate_y  confidenceFactor  maxDetectedRssi  \\\n",
       "0                34.657078                40              -59   \n",
       "1                34.657078                40              -59   \n",
       "2                34.657078                40              -59   \n",
       "3                34.657078                40              -59   \n",
       "4                34.657078                40              -59   \n",
       "...                    ...               ...              ...   \n",
       "1101              1.202192                80              -58   \n",
       "1102              1.202192                80              -58   \n",
       "1103              0.803267                80              -57   \n",
       "1104              0.803267                80              -57   \n",
       "1105              0.797808                80              -58   \n",
       "\n",
       "                      CMX_lastSeen            Real_Time       RMSE  \\\n",
       "0     2022-07-08T12:18:37.455+0100  2022-07-08 12:22:58  34.962825   \n",
       "1     2022-07-08T12:18:37.455+0100  2022-07-08 12:23:00  34.962825   \n",
       "2     2022-07-08T12:18:37.455+0100  2022-07-08 12:23:01  34.962825   \n",
       "3     2022-07-08T12:18:37.455+0100  2022-07-08 12:23:02  34.962825   \n",
       "4     2022-07-08T12:18:37.455+0100  2022-07-08 12:23:03  34.962825   \n",
       "...                            ...                  ...        ...   \n",
       "1101  2022-07-08T12:42:53.834+0100  2022-07-08 12:42:53   1.470323   \n",
       "1102  2022-07-08T12:42:53.834+0100  2022-07-08 12:42:54   1.470323   \n",
       "1103  2022-07-08T12:42:55.835+0100  2022-07-08 12:42:55   3.734642   \n",
       "1104  2022-07-08T12:42:55.835+0100  2022-07-08 12:42:57   3.734642   \n",
       "1105  2022-07-08T12:42:57.876+0100  2022-07-08 12:42:58   3.781485   \n",
       "\n",
       "      Test_point  f4:02:28:5a:28:63  dc:a6:32:26:67:ab  \n",
       "0              1                  1                  0  \n",
       "1              1                  1                  0  \n",
       "2              1                  1                  0  \n",
       "3              1                  1                  0  \n",
       "4              1                  1                  0  \n",
       "...          ...                ...                ...  \n",
       "1101           1                  0                  1  \n",
       "1102           1                  0                  1  \n",
       "1103           1                  0                  1  \n",
       "1104           1                  0                  1  \n",
       "1105           1                  0                  1  \n",
       "\n",
       "[1106 rows x 13 columns]"
      ]
     },
     "execution_count": 13,
     "metadata": {},
     "output_type": "execute_result"
    }
   ],
   "source": [
    "df"
   ]
  },
  {
   "cell_type": "code",
   "execution_count": 16,
   "id": "48c9828a",
   "metadata": {},
   "outputs": [],
   "source": [
    "df_Samsung_total = (df['macAddress'] == 'f4:02:28:5a:28:63') & ()"
   ]
  },
  {
   "cell_type": "code",
   "execution_count": null,
   "id": "ab2146aa",
   "metadata": {},
   "outputs": [],
   "source": []
  }
 ],
 "metadata": {
  "kernelspec": {
   "display_name": "Python 3 (ipykernel)",
   "language": "python",
   "name": "python3"
  },
  "language_info": {
   "codemirror_mode": {
    "name": "ipython",
    "version": 3
   },
   "file_extension": ".py",
   "mimetype": "text/x-python",
   "name": "python",
   "nbconvert_exporter": "python",
   "pygments_lexer": "ipython3",
   "version": "3.9.12"
  }
 },
 "nbformat": 4,
 "nbformat_minor": 5
}
